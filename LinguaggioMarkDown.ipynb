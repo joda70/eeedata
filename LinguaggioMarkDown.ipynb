{
 "cells": [
  {
   "cell_type": "markdown",
   "metadata": {},
   "source": [
    "# Linguaggio Markdown\n",
    "\n",
    "## Tabella dei contenuti\n",
    "\n",
    "1. [Cosa è un linguaggio Markdown](#section1)\n",
    "1. [Sintassi del linguaggio Markdown](#section2)\n",
    "  1. [Intestazioni](#section2.A)\n",
    "  1. [Grassetto, Italico, etc](#section2.B)\n",
    "  1. [Elementi di lista](#section2.C)\n",
    "  1. [Link](#section2.D)\n",
    "  1. [Immagini](#section2.E)\n",
    "  1. [Codice](#section2.F)\n",
    "  1. [Tabelle](#section2.G)\n",
    "  1. [Citazioni](#section2.H)\n",
    "  1. [Separatori orizzontali](#section2.I)\n"
   ]
  },
  {
   "cell_type": "markdown",
   "metadata": {},
   "source": [
    "<a id='section1'></a>\n",
    "## 1. Cosa è un linguaggio Markdown\n",
    "\n",
    "Il linguaggio Markdown è un linguaggio di formattazione per documenti che può essere convertito in HTML tramite appositi tools."
   ]
  },
  {
   "cell_type": "markdown",
   "metadata": {},
   "source": [
    "<a id='section2'></a>\n",
    "## 2. Sintassi del linguaggio Markdown"
   ]
  },
  {
   "cell_type": "markdown",
   "metadata": {},
   "source": [
    "<a id='section2.A'></a>\n",
    "### A. Intestazioni\n",
    "\n",
    "Le intestazioni sono create con il carattere ```#```. \n",
    "\n",
    "```# I1``` \n",
    "# I1\n",
    "\n",
    "```## I2```\n",
    "\n",
    "## I2\n",
    "\n",
    "```### I3```\n",
    "\n",
    "### I3\n",
    "\n",
    "```#### I4```\n",
    "\n",
    "#### I4\n",
    "\n",
    "```##### I5```\n",
    "\n",
    "##### I5\n",
    "\n",
    "```###### I6```\n",
    "\n",
    "###### I6\n",
    "\n",
    "Per le due prime intestazioni è possibile ottenere lo stesso risultato facendo come segue:\n",
    "\n",
    "```\n",
    "I1\n",
    "===\n",
    "```\n",
    "\n",
    "I1\n",
    "===\n",
    "\n",
    "```{l}\n",
    "I2\n",
    "---\n",
    "```\n",
    "\n",
    "I2\n",
    "---\n"
   ]
  },
  {
   "cell_type": "markdown",
   "metadata": {},
   "source": [
    "<a id='section2.B'></a>\n",
    "### B. Grassetto, italico, etc\n",
    "\n",
    "Il testo può essere formattato usando i caratteri asterisco ```*```, underscore ```_```, e tilde ```~```.\n",
    "\n",
    "Per il corsivo far precedere e seguire il testo dal singolo asterisco ```*``` o singolo underscore ```_```:\n",
    "- *Corsivo* ```*Corsivo*``` \n",
    "- _Corsivo_ ```_Corsivo_```\n",
    "\n",
    "Per il grassetto far precedere e seguire il testo dal doppio asterisco ```**``` o doppio underscore ```__```:\n",
    "- **Grassetto** ```**Grassetto**```  \n",
    "- __Grassetto__ ```__Grassetto__``` \n",
    "\n",
    "Per il testo barrato far precedere e seguire il testo dal doppio tilde ```~~```:\n",
    "- ~~barrato~~ ```~~barrato~~```\n",
    "\n",
    "Combinandoli insieme:\n",
    "- **Grassetto e _Corsivo_** ```**Grassetto e _Corsivo_**``` \n",
    "- _Corsivo e **Grassetto**_ ```_Corsivo e **Grassetto**_``` \n",
    "- _**Corsivo e Grassetto**_ ```_**Corsivo e Grassetto**_```"
   ]
  },
  {
   "cell_type": "markdown",
   "metadata": {},
   "source": [
    "<a id='section2.C'></a>\n",
    "### C. Elementi di lista\n",
    "\n",
    "Le liste possono essere ordinate numericamente o non ordinate con dei pallini.\n",
    "\n",
    "Le liste ordinate numericamente sono realizzate facendo precedere il testo da uno spazio, un ```.``` e un numero. \n",
    "\n",
    "Esempio di lista numerata che parte dal numero 1:\n",
    "\n",
    "1. testo ```1. testo```\n",
    "2. testo ```2.testo```\n",
    "\n",
    "Esempio di lista numerata che parte dal numero 3:\n",
    "\n",
    "3. testo ```3. testo```\n",
    "4. testo ```4.testo```"
   ]
  },
  {
   "cell_type": "markdown",
   "metadata": {},
   "source": [
    "<font color=blue>Esercizio:</font> Creare una lista numerata in cui cambia la numerazione ordinata della lista. La lista sarà ancora ordinata numericamente? es: 3., 4., 5.\n",
    "```\n",
    "3. testo\n",
    "4. testo\n",
    "8. testo\n",
    "```"
   ]
  },
  {
   "cell_type": "markdown",
   "metadata": {},
   "source": [
    "Le liste non ordinate sono realizzate facendo precedere il testo da uno spazio e uno dei seguenti caratteri asterisco ```*```, più ```+```, e meno ```-```. \n",
    "\n",
    "Esempio di lista non ordinata ottenuta con il carattere asterisco ```*```:\n",
    "\n",
    "* Elemento c ```* Elemento c```\n",
    "* Elemento a ```* Elemento a```\n",
    "\n",
    "Esempio di lista non ordinata ottenuta con il carattere asterisco ```+```:\n",
    "\n",
    "+ Elemento c ```+ Elemento c```\n",
    "+ Elemento a ```+ Elemento a```\n",
    "\n",
    "Esempio di lista non ordinata ottenuta con il carattere asterisco ```-```:\n",
    "\n",
    "- Elemento c ```- Elemento c```\n",
    "- Elemento a ```- Elemento a```\n",
    "\n",
    "Per annidare un elemento di una lista si va a capo e si introduce una nuova lista.\n",
    "\n",
    "Esempio di una lista annidata:\n",
    "\n",
    "- Elemento c \n",
    " * Elemento a\n",
    " * Elemento d\n",
    "- Elemento b \n",
    " + Elemento z \n",
    "   * Elemento e \n",
    "\n",
    "```\n",
    "- Elemento c\n",
    " * Elemento a\n",
    " * Elemento d\n",
    "- Elemento b \n",
    " + Elemento z\n",
    "   * Elemento e \n",
    "``` "
   ]
  },
  {
   "cell_type": "markdown",
   "metadata": {},
   "source": [
    "<a id='section2.D'></a>\n",
    "### D. Link\n",
    "\n",
    "Per creare un link è possibile fare come segue:\n",
    "\n",
    "- link [INFN](http://home.infn.it/it/) ```[INFN](http://home.infn.it/it/)```\n",
    "\n",
    "- link con titolo definitivo tra virgolette all'interno della parentesi tonda [Progetto EEE](https://eee.centrofermi.it/ \"Progetto Extrems Energy Event (EEE)\") ```[Progetto EEE](https://eee.centrofermi.it/ \"Progetto Extrems Energy Event (EEE)\")```\n",
    "\n",
    "- link con URL <https://www.cnaf.infn.it/> circondato da minore ```<``` e maggiore ```>``` ```<https://www.cnaf.infn.it/>```\n",
    "\n",
    "- link con solo URL https://www.cnaf.infn.it/"
   ]
  },
  {
   "cell_type": "markdown",
   "metadata": {},
   "source": [
    "<a id='section2.E'></a>\n",
    "### E. Immagini\n",
    "\n",
    "Per le immagini si procede come per il link con l'aggiunta del punto esclamativo.\n",
    "\n",
    "![](https://eee.centrofermi.it/images/CF_banners/banner_CF.jpg \"Progetto EEE logo\") ```![](https://eee.centrofermi.it/images/CF_banners/banner_CF.jpg \"Progetto EEE logo\")```\n"
   ]
  },
  {
   "cell_type": "markdown",
   "metadata": {},
   "source": [
    "<a id='section2.F'></a>\n",
    "### F. Codice\n",
    "\n",
    "Con il linguaggio Markdown è possibile distinguere codice inline e a blocchi. \n",
    "\n",
    "Il codice inline è delimitato dal carattere back-tick ``` ` ```. Esempio: il codice ``` `2+2` ```. \n",
    "\n",
    "Il blocco di codice è delimitato dalla sequenza di tre back-tick ``` ` ```:\n",
    "\n",
    "- la prima sequenza può riportare il tipo di linguaggio, come python:\n",
    "\n",
    "```python\n",
    "print('Progetto Cosmic Rays Data Analysis')\n",
    "```\n",
    "\n",
    "- la prima sequenza può non riportare niente:\n",
    "\n",
    "```\n",
    "print('Progetto Cosmic Rays Data Analysis')\n",
    "```"
   ]
  },
  {
   "cell_type": "markdown",
   "metadata": {},
   "source": [
    "<a id='section2.G'></a>\n",
    "### G. Tabelle\n",
    "\n",
    "Le tabelle non rientrano nella specifica del linguaggio Markdown. Tuttavia è possibile aggiungere utilizzando in modo opportuna i caratteri ```|``` e ```-```. Le tabelle sono caratterizzate da colonne e celle. Le colonne sono evidenziate con il carattere ```|```. L'intestazione di ogni cella viene evidenziata con almeno tre caratteri meno ```-```.\n",
    "\n",
    "Corso|Studenti    \n",
    "-----|--------\n",
    "Matematica|80\n",
    "Informatica|50\n",
    "Ingegneria|150\n",
    "\n",
    "```\n",
    "Corso|Studenti    \n",
    "-----|--------\n",
    "Matematica|80\n",
    "Informatica|50\n",
    "Ingegneria|150\n",
    "```"
   ]
  },
  {
   "cell_type": "markdown",
   "metadata": {},
   "source": [
    "<a id='section2.H'></a>\n",
    "### H. Citazioni\n",
    "\n",
    "Per le citazioni è sufficiente usare il carattere maggiore ```>```.\n",
    "\n",
    ">Cogli l'attimo, cogli la rosa quando è il momento. Rendete straordinario la vostra vita. Di John Keating. ```>Cogli l'attimo, cogli la rosa quando è il momento. Rendete straordinario la vostra vita. Di John Keating.```"
   ]
  },
  {
   "cell_type": "markdown",
   "metadata": {},
   "source": [
    "<a id='section2.I'></a>\n",
    "### I. Separatori orizzontali\n",
    "\n",
    "I separatori orizzontali possono essere realizzati con tre o più asterischi ```***``` e underscore ```___```.\n",
    "\n",
    "Esempio degli asterischi:\n",
    "```\n",
    "Asterischi\n",
    "***\n",
    "```\n",
    "Asterischi\n",
    "***\n",
    "\n",
    "Esempio degli underscore:\n",
    "```\n",
    "Underscore\n",
    "___\n",
    "```\n",
    "Underscore\n",
    "___"
   ]
  }
 ],
 "metadata": {
  "kernelspec": {
   "display_name": "Python 3",
   "language": "python",
   "name": "python3"
  },
  "language_info": {
   "codemirror_mode": {
    "name": "ipython",
    "version": 3
   },
   "file_extension": ".py",
   "mimetype": "text/x-python",
   "name": "python",
   "nbconvert_exporter": "python",
   "pygments_lexer": "ipython3",
   "version": "3.7.1"
  }
 },
 "nbformat": 4,
 "nbformat_minor": 2
}
